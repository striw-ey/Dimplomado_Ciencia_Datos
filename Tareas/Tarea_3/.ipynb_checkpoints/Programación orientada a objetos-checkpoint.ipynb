{
 "cells": [
  {
   "cell_type": "markdown",
   "id": "40982ce7",
   "metadata": {},
   "source": [
    "<a href=\"https://colab.research.google.com/github/striw-ey/Diplomado_Ciencia_Datos/blob/main/Tareas/Tarea_3/Programaci%C3%B3n%20orientada%20a%20objetos.ipynb\" target=\"_parent\"><img src=\"https://colab.research.google.com/assets/colab-badge.svg\" alt=\"Open In Colab\"/></a>"
   ]
  },
  {
   "cell_type": "markdown",
   "id": "658d86c0",
   "metadata": {},
   "source": [
    "### Clase 1:"
   ]
  },
  {
   "cell_type": "code",
   "execution_count": 1,
   "id": "1b8c3945",
   "metadata": {},
   "outputs": [],
   "source": [
    "import pandas as pd"
   ]
  },
  {
   "cell_type": "code",
   "execution_count": 89,
   "id": "f5dff077",
   "metadata": {},
   "outputs": [],
   "source": [
    "class ReturnTwoNextValues:\n",
    "    def __init__(self):\n",
    "        self.counties = pd.read_csv('counties.csv')\n",
    "        \n",
    "        \n",
    "    def readData(self, f):\n",
    "        if counties.shape[0] > f+2:\n",
    "            print(self.counties.iloc[f+1:f+3,])\n",
    "        else:\n",
    "            print('Se han agotado los datos')"
   ]
  },
  {
   "cell_type": "code",
   "execution_count": 93,
   "id": "72f7f215",
   "metadata": {},
   "outputs": [
    {
     "name": "stdout",
     "output_type": "stream",
     "text": [
      "First output\n",
      "\n",
      "   codestate  codecounty         county population        area\n",
      "5          1        1011  Bull#%&()ock     10,914     622.805 \n",
      "6          1        1013      ; Butler     20,947     776.829 \n",
      "\n",
      "Second output\n",
      "Se han agotado los datos\n"
     ]
    }
   ],
   "source": [
    "test = ReturnTwoNextValues()\n",
    "print(\"First output\\n\")\n",
    "test.readData(4)\n",
    "print(\"Second output\")\n",
    "test.readData(10237)"
   ]
  },
  {
   "cell_type": "code",
   "execution_count": null,
   "id": "c56e2aa6",
   "metadata": {},
   "outputs": [],
   "source": [
    "\"\"\"\n",
    "        s1 = 0\n",
    "        s2 = 0\n",
    "        for ind in range(self.counties.shape[0]):\n",
    "            try:\n",
    "                self.counties.loc[ind, \"population\"] = int(self.counties.loc[ind, \"population\"].replace(\" \",\"\").replace(\",\",\"\"))\n",
    "                s1 += self.counties.loc[ind, \"population\"]\n",
    "            except:\n",
    "                pass\n",
    "            self.counties.loc[ind, \"area\"] = float(self.counties.loc[ind, \"area\"].replace(\" \",\"\").replace(\",\",\"\"))\n",
    "            s2 += self.counties.loc[ind, \"area\"]\n",
    "\n",
    "        M1 = s1/self.counties.shape[0]\n",
    "        M2 = s2/self.counties.shape[0]\n",
    "        \n",
    "        \n",
    "        #-------------------------------------------------------------------------Order the data to find the median\n",
    "        df_m1= self.counties.sort_values(by='population')\n",
    "        df_m1 = df_m1.reset_index(drop=True)\n",
    "        df_m2= self.counties.sort_values(by='area')\n",
    "        df_m2 = df_m2.reset_index(drop=True)\n",
    "        \n",
    "        #print(df_m1)\n",
    "        #print(df_m2)\n",
    "        \n",
    "        #-------------------------------------------------------------------------Calation of mode\n",
    "        intervals1 = []\n",
    "        intervals2 = []\n",
    "        \n",
    "        for ind in range(self.counties.shape[0]):\n",
    "            \n",
    "            try:\n",
    "                intervals1[int(df_m1.loc[ind, \"population\"]/2000)] += 1\n",
    "            except:\n",
    "                \n",
    "                try:\n",
    "                    intervals1.insert(int(df_m1.loc[ind, \"population\"]/2000), 1)\n",
    "                except:\n",
    "                    pass\n",
    "                \n",
    "            try:\n",
    "                intervals2[int(df_m2.loc[ind, \"area\"]/2000)] += 1\n",
    "            except:\n",
    "                intervals2.insert(int(df_m2.loc[ind, \"area\"]/2000), 1)\n",
    "        \n",
    "        main1 = intervals1.index(max(intervals1))\n",
    "        main2 = intervals2.index(max(intervals2))\n",
    "        \n",
    "        Dl1 = intervals1[main1]-intervals1[main1-1]\n",
    "        Dl2 = intervals2[main2]-intervals2[main2-1]\n",
    "        \n",
    "        mode1 = 17+((Dl1/(Dl1+(intervals1[main1]-intervals1[main1+1])))*1000)\n",
    "        mode2 = (Dl2/(Dl2+(intervals2[main2]-intervals2[main2+1])))*1000\n",
    "\"\"\""
   ]
  },
  {
   "cell_type": "markdown",
   "id": "d0189247",
   "metadata": {},
   "source": [
    "### Clase 2:"
   ]
  },
  {
   "cell_type": "code",
   "execution_count": 4,
   "id": "df198c38",
   "metadata": {},
   "outputs": [],
   "source": [
    "import pandas as pd"
   ]
  },
  {
   "cell_type": "code",
   "execution_count": 309,
   "id": "6936f871",
   "metadata": {},
   "outputs": [],
   "source": [
    "class ClassMultifuntional:\n",
    "    \n",
    "    \n",
    "    def __init__(self):\n",
    "        self.counties = pd.read_csv('counties.csv')\n",
    "    \n",
    "    \n",
    "    #-------------------------------------------------------------------------Calation of average\n",
    "    def average(self, var):\n",
    "        S = 0\n",
    "        for ind in range(self.counties.shape[0]):\n",
    "            try:\n",
    "                self.counties.loc[ind, var] = float(self.counties.loc[ind, var].replace(\" \",\"\").replace(\",\",\"\"))\n",
    "                S += self.counties.loc[ind, var]\n",
    "            except:\n",
    "                pass\n",
    "        A = S/self.counties.shape[0]\n",
    "        return A\n",
    "    \n",
    "    \n",
    "    #-------------------------------------------------------------------------Calation of median\n",
    "    def median(self, var):\n",
    "        df = self.counties.sort_values(by= var)\n",
    "        df = df.reset_index(drop=True)\n",
    "        return df.loc[int(self.counties.shape[0]/2), var]        \n",
    "    \n",
    "    \n",
    "    #-------------------------------------------------------------------------Calation of mode\n",
    "    def mode(self, var):\n",
    "        df = self.counties.sort_values(by= var)\n",
    "        df = df.reset_index(drop=True)\n",
    "        intervals = []\n",
    "        \n",
    "        for ind in range(self.counties.shape[0]):\n",
    "            try:\n",
    "                intervals[int(df.loc[ind, var]/2000)] += 1\n",
    "            except:\n",
    "                try:\n",
    "                    intervals.insert(int(df.loc[ind, var]/2000), 1)\n",
    "                except:\n",
    "                    pass\n",
    "        \n",
    "        main = intervals.index(max(intervals))\n",
    "        Dl1 = intervals[main]-intervals[main-1]\n",
    "        \n",
    "        mode = 17+((Dl1/(Dl1+(intervals[main]-intervals[main+1])))*1000)\n",
    "        return mode\n",
    "    \n",
    "    #-------------------------------------------------------------------------method to print the basic description statistics\n",
    "    def calOfBasicDescripStatistics(self):\n",
    "        print(\"Las estadisticas descriptivas basicas de counties.csv son: \\n\")\n",
    "        \n",
    "        print(\"La media de la población es: \" + str(self.average('population')))\n",
    "        print(\"La mediana de la población es: \" + str(self.median('population')))\n",
    "        print(\"La moda de la población es: \" + str(self.mode('population')))\n",
    "        \n",
    "        print(\"\\nLa media del area es: \" + str(self.average('area')))\n",
    "        print(\"La mediana del area es: \" + str(self.median('area')))\n",
    "        print(\"La moda del area es: \" + str(self.mode('area')))\n",
    "        \n",
    "        \n",
    "    #-------------------------------------------------------------------------method that print the available variables\n",
    "    def variables(self):\n",
    "        print(self.counties.dtypes)\n",
    "        \n",
    "        \n",
    "    #-------------------------------------------------------------------------method that print the basic statistics\n",
    "    def basicStatistics(self, string):\n",
    "        \n",
    "        print(\"\\nLa media es: \" + str(self.average(string)))\n",
    "        print(\"La mediana es: \" + str(self.median(string)))"
   ]
  },
  {
   "cell_type": "code",
   "execution_count": 310,
   "id": "9c4fea27",
   "metadata": {},
   "outputs": [
    {
     "name": "stdout",
     "output_type": "stream",
     "text": [
      "Las estadisticas descriptivas basicas de counties.csv son: \n",
      "\n",
      "La media de la población es: 96736.7012987013\n",
      "La mediana de la población es: 26097.0\n",
      "La moda de la población es: 788.4285714285714\n",
      "\n",
      "La media del area es: 1093.3618178726006\n",
      "La mediana del area es: 603.171\n",
      "La moda del area es: 531.6699266503667\n"
     ]
    }
   ],
   "source": [
    "partTwo = ClassMultifuntional()\n",
    "partTwo.calOfBasicDescripStatistics()"
   ]
  },
  {
   "cell_type": "code",
   "execution_count": 311,
   "id": "17a21f6b",
   "metadata": {},
   "outputs": [
    {
     "name": "stdout",
     "output_type": "stream",
     "text": [
      "codestate      int64\n",
      "codecounty     int64\n",
      "county        object\n",
      "population    object\n",
      "area          object\n",
      "dtype: object\n"
     ]
    }
   ],
   "source": [
    "partTwo.variables()"
   ]
  },
  {
   "cell_type": "code",
   "execution_count": 312,
   "id": "5c84d721",
   "metadata": {},
   "outputs": [
    {
     "name": "stdout",
     "output_type": "stream",
     "text": [
      "area\n",
      "\n",
      "La media es: 1093.3618178726006\n",
      "La mediana es: 603.171\n"
     ]
    }
   ],
   "source": [
    "partTwo3 = ClassMultifuntional()\n",
    "partTwo3.basicStatistics(input())"
   ]
  },
  {
   "cell_type": "code",
   "execution_count": null,
   "id": "0e1c41c3",
   "metadata": {},
   "outputs": [],
   "source": []
  }
 ],
 "metadata": {
  "kernelspec": {
   "display_name": "Python 3 (ipykernel)",
   "language": "python",
   "name": "python3"
  },
  "language_info": {
   "codemirror_mode": {
    "name": "ipython",
    "version": 3
   },
   "file_extension": ".py",
   "mimetype": "text/x-python",
   "name": "python",
   "nbconvert_exporter": "python",
   "pygments_lexer": "ipython3",
   "version": "3.11.0"
  }
 },
 "nbformat": 4,
 "nbformat_minor": 5
}
