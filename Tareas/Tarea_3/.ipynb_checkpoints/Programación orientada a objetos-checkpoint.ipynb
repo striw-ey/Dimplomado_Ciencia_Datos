{
 "cells": [
  {
   "cell_type": "markdown",
   "id": "40982ce7",
   "metadata": {},
   "source": [
    "<a href=\"https://colab.research.google.com/github/striw-ey/Diplomado_Ciencia_Datos/blob/main/Tareas/Tarea_3/Programaci%C3%B3n%20orientada%20a%20objetos.ipynb\" target=\"_parent\"><img src=\"https://colab.research.google.com/assets/colab-badge.svg\" alt=\"Open In Colab\"/></a>"
   ]
  },
  {
   "cell_type": "markdown",
   "id": "658d86c0",
   "metadata": {},
   "source": [
    "### Clase 1:"
   ]
  },
  {
   "cell_type": "code",
   "execution_count": 1,
   "id": "1b8c3945",
   "metadata": {},
   "outputs": [],
   "source": [
    "import pandas as pd\n",
    "counties= pd.read_csv('counties.csv')"
   ]
  },
  {
   "cell_type": "code",
   "execution_count": null,
   "id": "a2d076f5",
   "metadata": {},
   "outputs": [],
   "source": []
  }
 ],
 "metadata": {
  "kernelspec": {
   "display_name": "Python 3 (ipykernel)",
   "language": "python",
   "name": "python3"
  },
  "language_info": {
   "codemirror_mode": {
    "name": "ipython",
    "version": 3
   },
   "file_extension": ".py",
   "mimetype": "text/x-python",
   "name": "python",
   "nbconvert_exporter": "python",
   "pygments_lexer": "ipython3",
   "version": "3.11.0"
  }
 },
 "nbformat": 4,
 "nbformat_minor": 5
}
