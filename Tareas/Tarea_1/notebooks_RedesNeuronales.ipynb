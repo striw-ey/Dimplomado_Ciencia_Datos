{
 "cells": [
  {
   "cell_type": "markdown",
   "metadata": {},
   "source": [
    "# El aprendizaje en redes neuronales"
   ]
  },
  {
   "cell_type": "markdown",
   "metadata": {},
   "source": [
    "<img src='Images/MyFace.jpg' width=\"20%\" heigth=\"20%\" align=\"left\">\n",
    "<img src='Images/FSML2.png' width=\"16%\" heigth=\"16%\" align=\"left\">\n",
    "\n",
    "### Frank Stiven Medina Lozano\n",
    "___\n",
    "Estudiante de Ciencias de la Computación <br>\n",
    "Facultad de Ciencias <br>\n",
    "Universidad Nacional de Colombia\n",
    ">Apacionado por el saber, <br>con proyectos en mente vinculados a la Data Science.<br>"
   ]
  },
  {
   "cell_type": "markdown",
   "metadata": {},
   "source": [
    "Lo que ha atraído el mayor interés en las redes neuronales es la posibilidad de aprendizaje. Dada una determinada tarea a resolver, y una clase de funciones $F$, el aprendizaje consiste en utilizar un conjunto de observaciones para encontrar $f^* \\in F$ la cual resuelve la tarea de alguna forma óptima.<br>\n",
    "Esto implica la definición de una función de coste $C : F \\rightarrow \\mathbb {R}$  tal que, para la solución óptima $f^*$,  $C(f^*) \\le C(f)\\forall f\\in F$. Es decir, ninguna solución tiene un costo menor que el costo de la solución óptima.\n",
    "\n",
    "La función de coste $C$ es un concepto importante en el aprendizaje, ya que representa lo lejos que una solución particular se encuentra de la solución óptima al problema a resolver. Los algoritmos de aprendizaje buscan a través del espacio de soluciones para encontrar una función que tiene el menor costo posible.\n",
    "\n",
    "Como un simple ejemplo, considere el problema de encontrar el modelo $f$, Lo que reduce al mínimo $ C=E[(f(x)-y)^2]$, Para pares de datos $(x,y)$ extraída de alguna distribución $D$. En situaciones prácticas sólo tendríamos $N$ muestras de $D$ y, por tanto, para el ejemplo anterior, tendríamos solamente minimizar $C = \\frac{i}{N} \\sum_{i = 1}^{N} (f(x_{i})-y_{i})^2$."
   ]
  },
  {
   "attachments": {},
   "cell_type": "markdown",
   "metadata": {},
   "source": [
    "### Referencias:\n",
    "\n",
    "[Wikipedia -Red Neuronal Artificial](https://es.wikipedia.org/wiki/Red_neuronal_artificial)<br>\n",
    "[Redes Neuronales: Conceptos Básicos y Aplicaciones (PDF)](https://www.frro.utn.edu.ar/repositorio/catedras/quimica/5_anio/orientadora1/monograias/matich-redesneuronales.pdf)\n",
    "\n",
    "[Colaboratory](https://colab.research.google.com/github/striw-ey/Dimplomado_Ciencia_Datos/blob/main/Tareas/Tarea_1/notebooks_RedesNeuronales.ipynb)"
   ]
  }
 ],
 "metadata": {
  "kernelspec": {
   "display_name": "Python 3 (ipykernel)",
   "language": "python",
   "name": "python3"
  },
  "language_info": {
   "codemirror_mode": {
    "name": "ipython",
    "version": 3
   },
   "file_extension": ".py",
   "mimetype": "text/x-python",
   "name": "python",
   "nbconvert_exporter": "python",
   "pygments_lexer": "ipython3",
   "version": "3.11.0"
  }
 },
 "nbformat": 4,
 "nbformat_minor": 4
}
