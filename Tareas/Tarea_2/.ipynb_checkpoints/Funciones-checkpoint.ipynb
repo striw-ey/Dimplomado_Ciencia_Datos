{
 "cells": [
  {
   "cell_type": "markdown",
   "metadata": {
    "colab_type": "text",
    "id": "view-in-github"
   },
   "source": [
    "<a href=\"https://colab.research.google.com/github/striw-ey/Diplomado_Ciencia_Datos/blob/main/Tareas/Tarea_2/Funciones.ipynb\" target=\"_parent\"><img src=\"https://colab.research.google.com/assets/colab-badge.svg\" alt=\"Open In Colab\"/></a>"
   ]
  },
  {
   "cell_type": "markdown",
   "metadata": {
    "id": "mgfJpbmifdtF"
   },
   "source": [
    "# Funciones"
   ]
  },
  {
   "cell_type": "markdown",
   "metadata": {
    "id": "6PCbQ-0yfpP2"
   },
   "source": [
    "1. Escriba una función  que reciba la fecha de nacimiento de un a persona y calcule la edad de la persona"
   ]
  },
  {
   "cell_type": "code",
   "execution_count": 6,
   "metadata": {
    "id": "vHiKogPxfiGU"
   },
   "outputs": [],
   "source": [
    "from datetime import date\n",
    "\n",
    "def calEdad(fecha_nacimiento):\n",
    "    today = date.today()\n",
    "    edad = today.year - fecha_nacimiento.year - ((today.month, today.day) < (fecha_nacimiento.month, fecha_nacimiento.day))\n",
    "    return edad"
   ]
  },
  {
   "cell_type": "code",
   "execution_count": 7,
   "metadata": {
    "colab": {
     "base_uri": "https://localhost:8080/"
    },
    "id": "7kNa5uD-fwR8",
    "outputId": "f63c1fde-15a5-400a-d400-b8b5d5419d33"
   },
   "outputs": [
    {
     "name": "stdout",
     "output_type": "stream",
     "text": [
      "Tiene 6 años\n",
      "Tiene 23 años\n"
     ]
    }
   ],
   "source": [
    "# Ejemplo 1: Calcular la edad de una persona nacida el 1 de junio de 2016\n",
    "fecha_nacimiento = date(2016, 6, 1)\n",
    "edad_1 = calEdad(fecha_nacimiento)\n",
    "print(\"Tiene\", edad_1, \"años\")\n",
    "\n",
    "# Ejemplo 2: Calcular la edad de una persona nacida el 12 de abril de 1999\n",
    "fecha_nacimiento_2 = date(1999, 4, 12)\n",
    "edad_2 = calEdad(fecha_nacimiento_2)\n",
    "print(\"Tiene\", edad_2, \"años\")"
   ]
  },
  {
   "cell_type": "markdown",
   "metadata": {
    "id": "a-Mt8y9cf0Vh"
   },
   "source": [
    "2. Crea una función EscribirCentrado, que reciba como parámetro un texto y lo escriba centrado en pantalla (suponiendo una anchura de 80 columnas; pista: deberás escribir 40 - longitud/2 espacios antes del texto). "
   ]
  },
  {
   "cell_type": "code",
   "execution_count": 9,
   "metadata": {
    "id": "m8OIDmLUf3iz"
   },
   "outputs": [],
   "source": [
    "def EscribirCentrado(texto):\n",
    "    longitud_texto = len(texto)\n",
    "    spaces = 40 - longitud_texto // 2\n",
    "    print(' ' * spaces + texto)"
   ]
  },
  {
   "cell_type": "code",
   "execution_count": 16,
   "metadata": {
    "colab": {
     "base_uri": "https://localhost:8080/"
    },
    "id": "YgbTBbrfgVET",
    "outputId": "0a0cad47-0e43-4075-a8fc-4a3b24859143"
   },
   "outputs": [
    {
     "name": "stdout",
     "output_type": "stream",
     "text": [
      "                           Lorem ipsum dolor sit amet\n"
     ]
    }
   ],
   "source": [
    "# Ejemplo : Escribir el texto centrado en pantalla\n",
    "text = \"Lorem ipsum dolor sit amet\"\n",
    "EscribirCentrado(text)"
   ]
  },
  {
   "cell_type": "markdown",
   "metadata": {
    "id": "2IOcjJrcgZMD"
   },
   "source": [
    "3. Construya una función decorada que reciba un texto y lo escriba marcado con Markdown en itálica y resaltada (bold). Revise la lección de decoradores, no vista en clase."
   ]
  },
  {
   "cell_type": "code",
   "execution_count": 17,
   "metadata": {
    "id": "G4u1DTZfgcHK"
   },
   "outputs": [],
   "source": [
    "def markdown_decorador(funcion):\n",
    "    def envoltura(texto):\n",
    "        texto_formateado = \"**_\" + funcion(texto) + \"_**\"\n",
    "        return texto_formateado\n",
    "    return envoltura\n",
    "\n",
    "@markdown_decorador\n",
    "def escribir_texto(texto):\n",
    "    return texto"
   ]
  },
  {
   "cell_type": "code",
   "execution_count": 18,
   "metadata": {
    "colab": {
     "base_uri": "https://localhost:8080/"
    },
    "id": "-Hf7HvYRgr87",
    "outputId": "106e40dc-7adf-4192-8570-108786d61fca"
   },
   "outputs": [
    {
     "name": "stdout",
     "output_type": "stream",
     "text": [
      "**_Este es un texto marcado_**\n"
     ]
    }
   ],
   "source": [
    "# Ejemplo 1: Escribir un texto marcado con Markdown en itálica y resaltada\n",
    "texto = \"Este es un texto marcado\"\n",
    "texto_formateado = escribir_texto(texto)\n",
    "print(texto_formateado)"
   ]
  },
  {
   "cell_type": "markdown",
   "metadata": {
    "id": "ss6UKnDCgukS"
   },
   "source": [
    "4.  Crea un programa que pida dos número enteros al usuario y diga si alguno de ellos es múltiplo del otro. "
   ]
  },
  {
   "cell_type": "code",
   "execution_count": 21,
   "metadata": {
    "colab": {
     "base_uri": "https://localhost:8080/"
    },
    "id": "-Uiz7g7ggyz7",
    "outputId": "36ef259a-ce34-4d32-892c-528451dcabf2"
   },
   "outputs": [
    {
     "name": "stdout",
     "output_type": "stream",
     "text": [
      "Ingrese el primer número entero: 4\n",
      "Ingrese el segundo número entero: 8\n",
      "8 es múltiplo de 4\n"
     ]
    }
   ],
   "source": [
    "# Verificar si alguno de los números es múltiplo del otro\n",
    "def fun1(numero1, numero2):\n",
    "    if numero1 % numero2 == 0:\n",
    "        print(f\"{numero1} es múltiplo de {numero2}\")\n",
    "    elif numero2 % numero1 == 0:\n",
    "        print(f\"{numero2} es múltiplo de {numero1}\")\n",
    "    else:\n",
    "        print(\"Ninguno de los números es múltiplo del otro\")\n",
    "\n",
    "# Pedir dos números enteros al usuario\n",
    "numero1 = int(input(\"Ingrese el primer número entero: \"))\n",
    "numero2 = int(input(\"Ingrese el segundo número entero: \"))\n",
    "\n",
    "fun1(numero1, numero2)"
   ]
  },
  {
   "cell_type": "markdown",
   "metadata": {
    "id": "4pDdl43tiJ_b"
   },
   "source": [
    "5. Crear una función re reciba una lista  de 24 valores de temperatura leída  hora en un día y que calcule la temperatura media  Cree una lista con 24 valores de temperatura de un día de Bogotá y pruebe su función. Invente los datos."
   ]
  },
  {
   "cell_type": "code",
   "execution_count": 10,
   "metadata": {
    "id": "CV0Hx7JaiLiw"
   },
   "outputs": [],
   "source": [
    "def temperatura_media(lista_temperaturas):\n",
    "    total_temperaturas = sum(lista_temperaturas)\n",
    "    media_temperaturas = total_temperaturas / len(lista_temperaturas)\n",
    "    return media_temperaturas"
   ]
  },
  {
   "cell_type": "code",
   "execution_count": 11,
   "metadata": {
    "colab": {
     "base_uri": "https://localhost:8080/"
    },
    "id": "-KHdOi40ikI8",
    "outputId": "26c11854-3176-4158-e328-0588844e0c93"
   },
   "outputs": [
    {
     "name": "stdout",
     "output_type": "stream",
     "text": [
      "La temperatura media en Bogotá fue de 11.208333333333334 grados Celsius\n"
     ]
    }
   ],
   "source": [
    "# Lista de temperaturas de un día en Bogotá (en grados Celsius)\n",
    "temperaturas_bogota = [12, 11, 11, 10, 9, 9, 8, 8, 10, 11, 12, 13, 14, 15, 15, 14, 13, 12, 11, 11, 10, 10, 10, 10]\n",
    "\n",
    "# Calcular la temperatura media\n",
    "temperatura_media_bogota = temperatura_media(temperaturas_bogota)\n",
    "\n",
    "# Imprimir la temperatura media\n",
    "print(f\"La temperatura media en Bogotá fue de {temperatura_media_bogota} grados Celsius\")"
   ]
  },
  {
   "cell_type": "code",
   "execution_count": 12,
   "metadata": {
    "colab": {
     "base_uri": "https://localhost:8080/"
    },
    "id": "Rv-P3kkpimHr",
    "outputId": "c1bb71c7-2e96-455e-89f5-cb99a66cf219"
   },
   "outputs": [
    {
     "name": "stdout",
     "output_type": "stream",
     "text": [
      "La temperatura media fue de 25.16203703703704 grados Celsius\n"
     ]
    }
   ],
   "source": [
    "# Lista de temperaturas inventadas en grados Fahrenheit\n",
    "temperaturas = [72, 73, 74, 75, 75, 76, 77, 78, 79, 80, 80, 81, 81, 81, 81, 80, 80, 79, 78, 77, 76, 75, 74, 73]\n",
    "\n",
    "# Convertir las temperaturas de Fahrenheit a Celsius\n",
    "temperaturas_celsius = [(temperatura - 32) * 5/9 for temperatura in temperaturas]\n",
    "\n",
    "# Calcular la temperatura media\n",
    "temperatura_media = temperatura_media(temperaturas_celsius)\n",
    "\n",
    "# Imprimir la temperatura media\n",
    "print(f\"La temperatura media fue de {temperatura_media} grados Celsius\")"
   ]
  },
  {
   "cell_type": "markdown",
   "metadata": {
    "id": "9n2Qw4yRjYZ7"
   },
   "source": [
    "6. Crea un función “ConvertirEspaciado”, que reciba como parámetro un texto y devuelve una cadena con un espacio adicional tras cada letra. Por ejemplo, “Hola, tú” devolverá “H o l a , t ú “.  Pruebe "
   ]
  },
  {
   "cell_type": "code",
   "execution_count": 1,
   "metadata": {
    "id": "-20XGj2CKUwN"
   },
   "outputs": [],
   "source": [
    "def ConvertirEspaciado(texto):\n",
    "    espaciado = \"\"\n",
    "    for letra in texto:\n",
    "        if letra != \" \":\n",
    "            espaciado += letra + \" \"\n",
    "        else:\n",
    "            espaciado += \" \"\n",
    "    return espaciado"
   ]
  },
  {
   "cell_type": "code",
   "execution_count": 2,
   "metadata": {
    "colab": {
     "base_uri": "https://localhost:8080/"
    },
    "id": "jJFqyyavKivt",
    "outputId": "bb047238-a14a-4b04-89c5-cbae8be1fd17"
   },
   "outputs": [
    {
     "name": "stdout",
     "output_type": "stream",
     "text": [
      "H o l a ,  t ú \n",
      "H o l a  M u n d o \n"
     ]
    }
   ],
   "source": [
    "texto1 = \"Hola, tú\"\n",
    "texto2 = \"Hola Mundo\"\n",
    "resultado1 = ConvertirEspaciado(texto1)\n",
    "resultado2 = ConvertirEspaciado(texto2)\n",
    "print(resultado1)  # H o l a ,   t ú \n",
    "print(resultado2)  # H o l a   M u n d o "
   ]
  },
  {
   "cell_type": "markdown",
   "metadata": {
    "id": "wS8OokA6Kj2X"
   },
   "source": [
    "7. Crea una función “calcularMaxMin” que recibe una arreglo con valores numérico y devuelve el valor máximo y el mínimo. "
   ]
  },
  {
   "cell_type": "code",
   "execution_count": 3,
   "metadata": {
    "id": "SVl0wwmwKxpm"
   },
   "outputs": [],
   "source": [
    "def calcularMaxMin(arreglo):\n",
    "    maximo = arreglo[0]\n",
    "    minimo = arreglo[0]\n",
    "    for numero in arreglo:\n",
    "        if numero > maximo:\n",
    "            maximo = numero\n",
    "        if numero < minimo:\n",
    "            minimo = numero\n",
    "    return maximo, minimo"
   ]
  },
  {
   "cell_type": "code",
   "execution_count": 4,
   "metadata": {
    "colab": {
     "base_uri": "https://localhost:8080/"
    },
    "id": "rb-X2XD_KyqN",
    "outputId": "091f740c-f2c7-406c-d8b2-dcd9dff4df1e"
   },
   "outputs": [
    {
     "name": "stdout",
     "output_type": "stream",
     "text": [
      "El valor máximo de arreglo1 es: 10\n",
      "El valor mínimo de arreglo1 es: 2\n",
      "El valor máximo de arreglo2 es: 10\n",
      "El valor mínimo de arreglo2 es: 2\n"
     ]
    }
   ],
   "source": [
    "arreglo1 = [5, 8, 2, 10, 3]\n",
    "arreglo2 = [2, 4, 6, 8, 10]\n",
    "maximo1, minimo1 = calcularMaxMin(arreglo1)\n",
    "maximo2, minimo2 = calcularMaxMin(arreglo2)\n",
    "print(\"El valor máximo de arreglo1 es:\", maximo1)  # 10\n",
    "print(\"El valor mínimo de arreglo1 es:\", minimo1)  # 2\n",
    "print(\"El valor máximo de arreglo2 es:\", maximo2)  # 10\n",
    "print(\"El valor mínimo de arreglo2 es:\", minimo2)  # 2"
   ]
  },
  {
   "cell_type": "markdown",
   "metadata": {
    "id": "PlLRABPFK1cV"
   },
   "source": [
    "8.  Diseñar una función que calcule el área y el perímetro de una circunferencia. "
   ]
  },
  {
   "cell_type": "code",
   "execution_count": 5,
   "metadata": {
    "id": "bt2V44KnK5cW"
   },
   "outputs": [],
   "source": [
    "import math\n",
    "\n",
    "def calcularAreaPerimetroCircunferencia(radio):\n",
    "    area = math.pi * radio ** 2\n",
    "    perimetro = 2 * math.pi * radio\n",
    "    return area, perimetro"
   ]
  },
  {
   "cell_type": "code",
   "execution_count": 6,
   "metadata": {
    "colab": {
     "base_uri": "https://localhost:8080/"
    },
    "id": "T_Ee3RUqLBsN",
    "outputId": "cca4f3d2-58e3-4b46-d5ad-ffeace4a1bb0"
   },
   "outputs": [
    {
     "name": "stdout",
     "output_type": "stream",
     "text": [
      "El área de la circunferencia con radio 5 es: 78.53981633974483 y el perímetro es: 31.41592653589793\n",
      "El área de la circunferencia con radio 10 es: 314.1592653589793 y el perímetro es: 62.83185307179586\n"
     ]
    }
   ],
   "source": [
    "radio1 = 5\n",
    "radio2 = 10\n",
    "area1, perimetro1 = calcularAreaPerimetroCircunferencia(radio1)\n",
    "area2, perimetro2 = calcularAreaPerimetroCircunferencia(radio2)\n",
    "print(\"El área de la circunferencia con radio\", radio1, \"es:\", area1, \"y el perímetro es:\", perimetro1)\n",
    "print(\"El área de la circunferencia con radio\", radio2, \"es:\", area2, \"y el perímetro es:\", perimetro2)"
   ]
  },
  {
   "cell_type": "markdown",
   "metadata": {
    "id": "wQh_gm6RLEYQ"
   },
   "source": [
    "9. Crear una función  llamada “Login”, que recibe un nombre de usuario y una contraseña y devuelva Verdadero si el nombre de usuario es “usuario1” y la contraseña es “asdasd”. Además recibe el número de intentos que se ha intentado hacer login y si no se ha podido hacer login incremente este valor."
   ]
  },
  {
   "cell_type": "code",
   "execution_count": 7,
   "metadata": {
    "id": "sCUvN5YfLIne"
   },
   "outputs": [],
   "source": [
    "def Login(usuario, contrasena, intentos):\n",
    "    if usuario == \"usuario1\" and contrasena == \"asdasd\":\n",
    "        return True, intentos\n",
    "    else:\n",
    "        intentos += 1\n",
    "        return False, intentos"
   ]
  },
  {
   "cell_type": "code",
   "execution_count": 8,
   "metadata": {
    "colab": {
     "base_uri": "https://localhost:8080/"
    },
    "id": "NTv2zrdbLQ4E",
    "outputId": "29629a61-1ee1-4c65-d13c-0bed48cfa2d4"
   },
   "outputs": [
    {
     "name": "stdout",
     "output_type": "stream",
     "text": [
      "Intento 1:\n",
      "El login fue exitoso: True\n",
      "Número de intentos: 0\n",
      "Intento 2:\n",
      "El login fue exitoso: False\n",
      "Número de intentos: 4\n"
     ]
    }
   ],
   "source": [
    "intentos1 = 0\n",
    "intentos2 = 3\n",
    "resultado1, intentos1 = Login(\"usuario1\", \"asdasd\", intentos1)\n",
    "resultado2, intentos2 = Login(\"usuario2\", \"123456\", intentos2)\n",
    "print(\"Intento 1:\")\n",
    "print(\"El login fue exitoso:\", resultado1)\n",
    "print(\"Número de intentos:\", intentos1)\n",
    "print(\"Intento 2:\")\n",
    "print(\"El login fue exitoso:\", resultado2)\n",
    "print(\"Número de intentos:\", intentos2)"
   ]
  },
  {
   "cell_type": "markdown",
   "metadata": {
    "id": "BzYRZxuELTZU"
   },
   "source": [
    "10. Crear una función recursiva que permita calcular el factorial de un número. Realiza un programa principal donde se lea un entero y se muestre el resultado del factorial. Revise la lección de funciones."
   ]
  },
  {
   "cell_type": "code",
   "execution_count": 9,
   "metadata": {
    "id": "ldXbY7adLr4t"
   },
   "outputs": [],
   "source": [
    "def factorial(n):\n",
    "    if n == 0:\n",
    "        return 1\n",
    "    else:\n",
    "        return n * factorial(n-1)"
   ]
  },
  {
   "cell_type": "code",
   "execution_count": 10,
   "metadata": {
    "colab": {
     "base_uri": "https://localhost:8080/"
    },
    "id": "_qUZm6npNK0u",
    "outputId": "460864f0-8803-48d4-d657-69a0fa97e17a"
   },
   "outputs": [
    {
     "name": "stdout",
     "output_type": "stream",
     "text": [
      "El factorial de 5 es: 120\n",
      "El factorial de 10 es: 3628800\n"
     ]
    }
   ],
   "source": [
    "numero1 = 5\n",
    "numero2 = 10\n",
    "factorial1 = factorial(numero1)\n",
    "factorial2 = factorial(numero2)\n",
    "print(\"El factorial de\", numero1, \"es:\", factorial1)\n",
    "print(\"El factorial de\", numero2, \"es:\", factorial2)"
   ]
  },
  {
   "cell_type": "markdown",
   "metadata": {
    "id": "nNnk70UPL2VB"
   },
   "source": [
    "11. Escribir dos funciones que permitan calcular:\n",
    "\n",
    "*   La cantidad de segundos en un tiempo dado en horas, minutos y segundos.\n",
    "*   a cantidad de horas, minutos y segundos de un tiemLpo dado en segundos"
   ]
  },
  {
   "cell_type": "code",
   "execution_count": 11,
   "metadata": {
    "id": "WnH__4yjMRqW"
   },
   "outputs": [],
   "source": [
    "def tiempo_a_segundos(horas, minutos, segundos):\n",
    "    total_segundos = horas * 3600 + minutos * 60 + segundos\n",
    "    return total_segundos\n",
    "\n",
    "def segundos_a_tiempo(segundos):\n",
    "    horas = segundos // 3600\n",
    "    segundos = segundos % 3600\n",
    "    minutos = segundos // 60\n",
    "    segundos = segundos % 60\n",
    "    return horas, minutos, segundos"
   ]
  },
  {
   "cell_type": "code",
   "execution_count": 12,
   "metadata": {
    "colab": {
     "base_uri": "https://localhost:8080/"
    },
    "id": "2o4nNNpnMSmF",
    "outputId": "e303c35c-ecb8-4ee8-a7f9-64b77b76a26c"
   },
   "outputs": [
    {
     "name": "stdout",
     "output_type": "stream",
     "text": [
      "3 horas, 27 minutos y 42 segundos son 12462 segundos.\n",
      "0 segundos son 1 horas, 0 minutos y 0 segundos.\n"
     ]
    }
   ],
   "source": [
    "# Ejemplo 1: convirtiendo tiempo a segundos\n",
    "horas = 3\n",
    "minutos = 27\n",
    "segundos = 42\n",
    "total_segundos = tiempo_a_segundos(horas, minutos, segundos)\n",
    "print(f\"{horas} horas, {minutos} minutos y {segundos} segundos son {total_segundos} segundos.\")\n",
    "\n",
    "# Ejemplo 2: convirtiendo segundos a tiempo\n",
    "segundos = 3600\n",
    "horas, minutos, segundos = segundos_a_tiempo(segundos)\n",
    "print(f\"{segundos} segundos son {horas} horas, {minutos} minutos y {segundos} segundos.\")"
   ]
  },
  {
   "cell_type": "markdown",
   "metadata": {
    "id": "c5EWtl00MYCW"
   },
   "source": [
    "12. Crea una función  que lea una tupla, invierta los valores de la tupla y regrese una nueva tupla invirtiendo los valores. Recuerde que las tuplas son inmutables.\n"
   ]
  },
  {
   "cell_type": "code",
   "execution_count": 13,
   "metadata": {
    "id": "FgEs5xCUMmC1"
   },
   "outputs": [],
   "source": [
    "def invertir_tupla(tupla):\n",
    "    nueva_tupla = tuple(reversed(tupla))\n",
    "    return nueva_tupla"
   ]
  },
  {
   "cell_type": "code",
   "execution_count": 14,
   "metadata": {
    "colab": {
     "base_uri": "https://localhost:8080/"
    },
    "id": "ZDtOJJOAMqLn",
    "outputId": "385d8bca-9aae-42f0-90ce-095a8386a324"
   },
   "outputs": [
    {
     "name": "stdout",
     "output_type": "stream",
     "text": [
      "La tupla original es: (1, 2, 3, 4, 5)\n",
      "La tupla invertida es: (5, 4, 3, 2, 1)\n",
      "La tupla original es: ('Hola', 'mundo', '!', 'Python', 'es', 'genial')\n",
      "La tupla invertida es: ('genial', 'es', 'Python', '!', 'mundo', 'Hola')\n"
     ]
    }
   ],
   "source": [
    "# Ejemplo 1\n",
    "tupla1 = (1, 2, 3, 4, 5)\n",
    "tupla_invertida1 = invertir_tupla(tupla1)\n",
    "print(\"La tupla original es:\", tupla1)\n",
    "print(\"La tupla invertida es:\", tupla_invertida1)\n",
    "\n",
    "# Ejemplo 2\n",
    "tupla2 = (\"Hola\", \"mundo\", \"!\", \"Python\", \"es\", \"genial\")\n",
    "tupla_invertida2 = invertir_tupla(tupla2)\n",
    "print(\"La tupla original es:\", tupla2)\n",
    "print(\"La tupla invertida es:\", tupla_invertida2)"
   ]
  },
  {
   "cell_type": "markdown",
   "metadata": {
    "id": "osyMtVWCMq9l"
   },
   "source": [
    "13. Escriba una función que lea una lista y calcule la media geométrica de sus valores, usando funtools.reduce."
   ]
  },
  {
   "cell_type": "code",
   "execution_count": 15,
   "metadata": {
    "id": "c4n2NOpvMv9u"
   },
   "outputs": [],
   "source": [
    "import functools\n",
    "\n",
    "def media_geometrica(lista):\n",
    "    producto = functools.reduce(lambda x, y: x * y, lista)\n",
    "    n = len(lista)\n",
    "    return producto**(1/n)"
   ]
  },
  {
   "cell_type": "code",
   "execution_count": 16,
   "metadata": {
    "colab": {
     "base_uri": "https://localhost:8080/"
    },
    "id": "q91aYIyyM46W",
    "outputId": "2832566c-4f35-4b49-ffb9-e56da5b300e7"
   },
   "outputs": [
    {
     "name": "stdout",
     "output_type": "stream",
     "text": [
      "La lista es: [1, 2, 3, 4, 5]\n",
      "La media geométrica es: 2.605171084697352\n",
      "La lista es: [2, 4, 6, 8, 10]\n",
      "La media geométrica es: 5.210342169394704\n"
     ]
    }
   ],
   "source": [
    "# Ejemplo 1\n",
    "lista1 = [1, 2, 3, 4, 5]\n",
    "media_geometrica1 = media_geometrica(lista1)\n",
    "print(\"La lista es:\", lista1)\n",
    "print(\"La media geométrica es:\", media_geometrica1)\n",
    "\n",
    "# Ejemplo 2\n",
    "lista2 = [2, 4, 6, 8, 10]\n",
    "media_geometrica2 = media_geometrica(lista2)\n",
    "print(\"La lista es:\", lista2)\n",
    "print(\"La media geométrica es:\", media_geometrica2)"
   ]
  }
 ],
 "metadata": {
  "colab": {
   "authorship_tag": "ABX9TyOShrQVkN6g35SqnwVhQOfh",
   "include_colab_link": true,
   "provenance": []
  },
  "kernelspec": {
   "display_name": "Python 3 (ipykernel)",
   "language": "python",
   "name": "python3"
  },
  "language_info": {
   "codemirror_mode": {
    "name": "ipython",
    "version": 3
   },
   "file_extension": ".py",
   "mimetype": "text/x-python",
   "name": "python",
   "nbconvert_exporter": "python",
   "pygments_lexer": "ipython3",
   "version": "3.11.0"
  }
 },
 "nbformat": 4,
 "nbformat_minor": 1
}
